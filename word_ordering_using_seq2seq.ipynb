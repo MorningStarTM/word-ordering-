{
  "nbformat": 4,
  "nbformat_minor": 0,
  "metadata": {
    "colab": {
      "provenance": [],
      "authorship_tag": "ABX9TyOisR96tXP89VUKEAKAdezC",
      "include_colab_link": true
    },
    "kernelspec": {
      "name": "python3",
      "display_name": "Python 3"
    },
    "language_info": {
      "name": "python"
    }
  },
  "cells": [
    {
      "cell_type": "markdown",
      "metadata": {
        "id": "view-in-github",
        "colab_type": "text"
      },
      "source": [
        "<a href=\"https://colab.research.google.com/github/MorningStarTM/word-ordering-/blob/main/word_ordering_using_seq2seq.ipynb\" target=\"_parent\"><img src=\"https://colab.research.google.com/assets/colab-badge.svg\" alt=\"Open In Colab\"/></a>"
      ]
    },
    {
      "cell_type": "markdown",
      "source": [
        "# Preparing Dataset"
      ],
      "metadata": {
        "id": "UX8xwX_dEgTN"
      }
    },
    {
      "cell_type": "code",
      "execution_count": 54,
      "metadata": {
        "id": "YtJ5Iywdz8uo"
      },
      "outputs": [],
      "source": [
        "import pandas as pd\n",
        "import numpy as np\n",
        "import tensorflow as tf"
      ]
    },
    {
      "cell_type": "code",
      "source": [
        "#read the data\n",
        "dt = pd.read_csv(\"/content/word_df.csv\")"
      ],
      "metadata": {
        "id": "HpoMAfAIdrBP"
      },
      "execution_count": 55,
      "outputs": []
    },
    {
      "cell_type": "code",
      "source": [
        "or_cor = []\n",
        "un_cor = []\n",
        "for i in range(len(dt['Ordered'])):\n",
        "  text = dt['Ordered'][i].replace(\".\",\"\")\n",
        "  if len(text.split()) == 3:\n",
        "    or_cor.append(text)\n",
        "  text = dt['Unordered'][i]\n",
        "  if len(text.split()) == 3:\n",
        "    un_cor.append(text)"
      ],
      "metadata": {
        "id": "YYWDQixcAqnt"
      },
      "execution_count": 56,
      "outputs": []
    },
    {
      "cell_type": "code",
      "source": [
        "df = pd.DataFrame()"
      ],
      "metadata": {
        "id": "wosUCupSBRBt"
      },
      "execution_count": 57,
      "outputs": []
    },
    {
      "cell_type": "code",
      "source": [
        "df['Ordered'] = or_cor\n",
        "df['Unordered'] = un_cor"
      ],
      "metadata": {
        "id": "-sYmGofPCGtP"
      },
      "execution_count": 58,
      "outputs": []
    },
    {
      "cell_type": "code",
      "source": [
        "df.head()"
      ],
      "metadata": {
        "colab": {
          "base_uri": "https://localhost:8080/",
          "height": 206
        },
        "id": "yz7f1avWCTBN",
        "outputId": "8bdc0bb2-d21b-4986-b247-bdfcc6e95cfa"
      },
      "execution_count": 59,
      "outputs": [
        {
          "output_type": "execute_result",
          "data": {
            "text/plain": [
              "             Ordered          Unordered\n",
              "0        I love dogs        I dogs love\n",
              "1   She plays tennis   She plays tennis\n",
              "2  They drink coffee  drink coffee They\n",
              "3      He eats pizza      pizza He eats\n",
              "4     We go shopping     shopping We go"
            ],
            "text/html": [
              "\n",
              "  <div id=\"df-ee65b9e1-4914-4fc6-8b8f-75da6b33a17b\">\n",
              "    <div class=\"colab-df-container\">\n",
              "      <div>\n",
              "<style scoped>\n",
              "    .dataframe tbody tr th:only-of-type {\n",
              "        vertical-align: middle;\n",
              "    }\n",
              "\n",
              "    .dataframe tbody tr th {\n",
              "        vertical-align: top;\n",
              "    }\n",
              "\n",
              "    .dataframe thead th {\n",
              "        text-align: right;\n",
              "    }\n",
              "</style>\n",
              "<table border=\"1\" class=\"dataframe\">\n",
              "  <thead>\n",
              "    <tr style=\"text-align: right;\">\n",
              "      <th></th>\n",
              "      <th>Ordered</th>\n",
              "      <th>Unordered</th>\n",
              "    </tr>\n",
              "  </thead>\n",
              "  <tbody>\n",
              "    <tr>\n",
              "      <th>0</th>\n",
              "      <td>I love dogs</td>\n",
              "      <td>I dogs love</td>\n",
              "    </tr>\n",
              "    <tr>\n",
              "      <th>1</th>\n",
              "      <td>She plays tennis</td>\n",
              "      <td>She plays tennis</td>\n",
              "    </tr>\n",
              "    <tr>\n",
              "      <th>2</th>\n",
              "      <td>They drink coffee</td>\n",
              "      <td>drink coffee They</td>\n",
              "    </tr>\n",
              "    <tr>\n",
              "      <th>3</th>\n",
              "      <td>He eats pizza</td>\n",
              "      <td>pizza He eats</td>\n",
              "    </tr>\n",
              "    <tr>\n",
              "      <th>4</th>\n",
              "      <td>We go shopping</td>\n",
              "      <td>shopping We go</td>\n",
              "    </tr>\n",
              "  </tbody>\n",
              "</table>\n",
              "</div>\n",
              "      <button class=\"colab-df-convert\" onclick=\"convertToInteractive('df-ee65b9e1-4914-4fc6-8b8f-75da6b33a17b')\"\n",
              "              title=\"Convert this dataframe to an interactive table.\"\n",
              "              style=\"display:none;\">\n",
              "        \n",
              "  <svg xmlns=\"http://www.w3.org/2000/svg\" height=\"24px\"viewBox=\"0 0 24 24\"\n",
              "       width=\"24px\">\n",
              "    <path d=\"M0 0h24v24H0V0z\" fill=\"none\"/>\n",
              "    <path d=\"M18.56 5.44l.94 2.06.94-2.06 2.06-.94-2.06-.94-.94-2.06-.94 2.06-2.06.94zm-11 1L8.5 8.5l.94-2.06 2.06-.94-2.06-.94L8.5 2.5l-.94 2.06-2.06.94zm10 10l.94 2.06.94-2.06 2.06-.94-2.06-.94-.94-2.06-.94 2.06-2.06.94z\"/><path d=\"M17.41 7.96l-1.37-1.37c-.4-.4-.92-.59-1.43-.59-.52 0-1.04.2-1.43.59L10.3 9.45l-7.72 7.72c-.78.78-.78 2.05 0 2.83L4 21.41c.39.39.9.59 1.41.59.51 0 1.02-.2 1.41-.59l7.78-7.78 2.81-2.81c.8-.78.8-2.07 0-2.86zM5.41 20L4 18.59l7.72-7.72 1.47 1.35L5.41 20z\"/>\n",
              "  </svg>\n",
              "      </button>\n",
              "      \n",
              "  <style>\n",
              "    .colab-df-container {\n",
              "      display:flex;\n",
              "      flex-wrap:wrap;\n",
              "      gap: 12px;\n",
              "    }\n",
              "\n",
              "    .colab-df-convert {\n",
              "      background-color: #E8F0FE;\n",
              "      border: none;\n",
              "      border-radius: 50%;\n",
              "      cursor: pointer;\n",
              "      display: none;\n",
              "      fill: #1967D2;\n",
              "      height: 32px;\n",
              "      padding: 0 0 0 0;\n",
              "      width: 32px;\n",
              "    }\n",
              "\n",
              "    .colab-df-convert:hover {\n",
              "      background-color: #E2EBFA;\n",
              "      box-shadow: 0px 1px 2px rgba(60, 64, 67, 0.3), 0px 1px 3px 1px rgba(60, 64, 67, 0.15);\n",
              "      fill: #174EA6;\n",
              "    }\n",
              "\n",
              "    [theme=dark] .colab-df-convert {\n",
              "      background-color: #3B4455;\n",
              "      fill: #D2E3FC;\n",
              "    }\n",
              "\n",
              "    [theme=dark] .colab-df-convert:hover {\n",
              "      background-color: #434B5C;\n",
              "      box-shadow: 0px 1px 3px 1px rgba(0, 0, 0, 0.15);\n",
              "      filter: drop-shadow(0px 1px 2px rgba(0, 0, 0, 0.3));\n",
              "      fill: #FFFFFF;\n",
              "    }\n",
              "  </style>\n",
              "\n",
              "      <script>\n",
              "        const buttonEl =\n",
              "          document.querySelector('#df-ee65b9e1-4914-4fc6-8b8f-75da6b33a17b button.colab-df-convert');\n",
              "        buttonEl.style.display =\n",
              "          google.colab.kernel.accessAllowed ? 'block' : 'none';\n",
              "\n",
              "        async function convertToInteractive(key) {\n",
              "          const element = document.querySelector('#df-ee65b9e1-4914-4fc6-8b8f-75da6b33a17b');\n",
              "          const dataTable =\n",
              "            await google.colab.kernel.invokeFunction('convertToInteractive',\n",
              "                                                     [key], {});\n",
              "          if (!dataTable) return;\n",
              "\n",
              "          const docLinkHtml = 'Like what you see? Visit the ' +\n",
              "            '<a target=\"_blank\" href=https://colab.research.google.com/notebooks/data_table.ipynb>data table notebook</a>'\n",
              "            + ' to learn more about interactive tables.';\n",
              "          element.innerHTML = '';\n",
              "          dataTable['output_type'] = 'display_data';\n",
              "          await google.colab.output.renderOutput(dataTable, element);\n",
              "          const docLink = document.createElement('div');\n",
              "          docLink.innerHTML = docLinkHtml;\n",
              "          element.appendChild(docLink);\n",
              "        }\n",
              "      </script>\n",
              "    </div>\n",
              "  </div>\n",
              "  "
            ]
          },
          "metadata": {},
          "execution_count": 59
        }
      ]
    },
    {
      "cell_type": "code",
      "source": [
        "#list for words and text\n",
        "input_words = []\n",
        "input_text = []\n",
        "target_words = []\n",
        "target_text = []"
      ],
      "metadata": {
        "id": "MOa8FbUdh-Ns"
      },
      "execution_count": 60,
      "outputs": []
    },
    {
      "cell_type": "code",
      "source": [
        "#split the unordered text and append into list\n",
        "for i in range(len(df)):\n",
        "    data = df['Unordered'][i]\n",
        "    data = data.lower()\n",
        "    word_list = data.split(' ')\n",
        "    if len(word_list) <= 3:\n",
        "      input_text.append(word_list)\n",
        "    for word in word_list:\n",
        "      if word not in input_words:\n",
        "        input_words.append(word)"
      ],
      "metadata": {
        "id": "cmUkKmdnd7rS"
      },
      "execution_count": 61,
      "outputs": []
    },
    {
      "cell_type": "code",
      "source": [
        "#split the ordered text and append into list\n",
        "for i in range(len(df)):\n",
        "    data = df['Ordered'][i]\n",
        "    data = data.lower()\n",
        "    word_list = data.split(' ')\n",
        "    if len(word_list) <= 3:\n",
        "      target_text.append(word_list)\n",
        "    for word in word_list:\n",
        "      if word not in target_words:\n",
        "        target_words.append(word)"
      ],
      "metadata": {
        "id": "i-Qt6Vc85pQT"
      },
      "execution_count": 62,
      "outputs": []
    },
    {
      "cell_type": "code",
      "source": [
        "#sort the list\n",
        "input_words = sorted(list(input_words))"
      ],
      "metadata": {
        "id": "GPzL5vg6ibRa"
      },
      "execution_count": 63,
      "outputs": []
    },
    {
      "cell_type": "code",
      "source": [
        "len(input_words)"
      ],
      "metadata": {
        "colab": {
          "base_uri": "https://localhost:8080/"
        },
        "id": "y9v0zKGtCuSV",
        "outputId": "a31ea7ed-54f9-46a5-8278-a05bf535c774"
      },
      "execution_count": 64,
      "outputs": [
        {
          "output_type": "execute_result",
          "data": {
            "text/plain": [
              "337"
            ]
          },
          "metadata": {},
          "execution_count": 64
        }
      ]
    },
    {
      "cell_type": "code",
      "source": [
        "vocabulary = len(input_words)"
      ],
      "metadata": {
        "id": "Pe9_nAFvjRZ6"
      },
      "execution_count": 65,
      "outputs": []
    },
    {
      "cell_type": "code",
      "source": [
        "#assign the index for each word\n",
        "input_word_index = dict(\n",
        "    (char, i) for i, char in enumerate(input_words)\n",
        ")"
      ],
      "metadata": {
        "id": "DKTUDTyqjd8v"
      },
      "execution_count": 66,
      "outputs": []
    },
    {
      "cell_type": "code",
      "source": [
        "#create the vector for sentence\n",
        "encoder_input_data = np.zeros(\n",
        "    (len(input_text), 3, 337), dtype='float32'\n",
        ")\n",
        "\n",
        "decoder_input_data = np.zeros(\n",
        "    (len(input_text), 3, 337), dtype='float32'\n",
        ")\n",
        "\n",
        "decoder_target_data = np.zeros(\n",
        "    (len(input_text), 3, 337), dtype='float32'\n",
        ")"
      ],
      "metadata": {
        "id": "DTVfhuhUkXf-"
      },
      "execution_count": 67,
      "outputs": []
    },
    {
      "cell_type": "code",
      "source": [
        "decoder_input_data.shape"
      ],
      "metadata": {
        "colab": {
          "base_uri": "https://localhost:8080/"
        },
        "id": "fb3uURtamPCr",
        "outputId": "17528059-e4e6-447c-cc74-a587923f6761"
      },
      "execution_count": 68,
      "outputs": [
        {
          "output_type": "execute_result",
          "data": {
            "text/plain": [
              "(1038, 3, 337)"
            ]
          },
          "metadata": {},
          "execution_count": 68
        }
      ]
    },
    {
      "cell_type": "code",
      "source": [
        "#preparing vector \n",
        "for j in range(len(input_text)):\n",
        "  for i in range(len(input_text[j])):\n",
        "    value = input_word_index[input_text[j][i]]\n",
        "    encoder_input_data[j][i][value] = 1"
      ],
      "metadata": {
        "id": "Ar1Ov3U4sN-L"
      },
      "execution_count": 69,
      "outputs": []
    },
    {
      "cell_type": "code",
      "source": [
        "#preparing vector \n",
        "for j in range(len(target_text)):\n",
        "  for i in range(len(target_text[j])):\n",
        "    value = input_word_index[target_text[j][i]]\n",
        "    decoder_input_data[j][i][value] = 1"
      ],
      "metadata": {
        "id": "BFiyg8lX69z0"
      },
      "execution_count": 70,
      "outputs": []
    },
    {
      "cell_type": "code",
      "source": [
        "input_word_index.items()"
      ],
      "metadata": {
        "colab": {
          "base_uri": "https://localhost:8080/"
        },
        "id": "SO69nLUXsbtq",
        "outputId": "24af16dd-9b36-4dde-a199-aede814e78db"
      },
      "execution_count": 71,
      "outputs": [
        {
          "output_type": "execute_result",
          "data": {
            "text/plain": [
              "dict_items([('abroad', 0), ('animations', 1), ('anthropology', 2), ('appliances', 3), ('archaeology', 4), ('archery', 5), ('art', 6), ('articles', 7), ('astronomy', 8), ('attend', 9), ('attends', 10), ('attentively', 11), ('bake', 12), ('bakes', 13), ('ballet', 14), ('baseball', 15), ('basketball', 16), ('beautifully', 17), ('bicycles', 18), ('bike', 19), ('bikes', 20), ('biking', 21), ('biology', 22), ('birds', 23), ('birdwatching', 24), ('birthdays', 25), ('blogs', 26), ('boardgames', 27), ('books', 28), ('botany', 29), ('boxing', 30), ('breakfast', 31), ('breaks', 32), ('build', 33), ('buildings', 34), ('builds', 35), ('business', 36), ('cakes', 37), ('calligraphy', 38), ('camping', 39), ('canoeing', 40), ('cards', 41), ('care', 42), ('carefully', 43), ('cars', 44), ('cartoons', 45), ('cats', 46), ('celebrate', 47), ('chemistry', 48), ('chess', 49), ('chocolate', 50), ('chores', 51), ('church', 52), ('cities', 53), ('classes', 54), ('clean', 55), ('climb', 56), ('clothes', 57), ('clothing', 58), ('code', 59), ('codes', 60), ('coding', 61), ('coffee', 62), ('coins', 63), ('collect', 64), ('comics', 65), ('computers', 66), ('concerts', 67), ('conferences', 68), ('cook', 69), ('cooking', 70), ('cooks', 71), ('courses', 72), ('crafts', 73), ('create', 74), ('creates', 75), ('crosswords', 76), ('cycling', 77), ('daily', 78), ('dance', 79), ('dances', 80), ('dancing', 81), ('deeply', 82), ('designs', 83), ('dinner', 84), ('dishes', 85), ('do', 86), ('documentaries', 87), ('does', 88), ('dogs', 89), ('draw', 90), ('drawing', 91), ('draws', 92), ('drink', 93), ('drives', 94), ('drums', 95), ('eat', 96), ('eats', 97), ('ecology', 98), ('economics', 99), ('education', 100), ('emails', 101), ('engineering', 102), ('english', 103), ('enjoy', 104), ('enjoys', 105), ('errands', 106), ('essays', 107), ('events', 108), ('everyday', 109), ('exercise', 110), ('exercises', 111), ('explore', 112), ('family', 113), ('fast', 114), ('festivals', 115), ('fireworks', 116), ('fishing', 117), ('fixes', 118), ('flowers', 119), ('football', 120), ('friends', 121), ('frisbee', 122), ('fun', 123), ('games', 124), ('gardening', 125), ('gardens', 126), ('geography', 127), ('geology', 128), ('go', 129), ('goes', 130), ('golf', 131), ('gracefully', 132), ('grows', 133), ('guitar', 134), ('gymnastics', 135), ('hard', 136), ('have', 137), ('he', 138), ('hike', 139), ('hiking', 140), ('history', 141), ('hockey', 142), ('holidays', 143), ('homework', 144), ('horses', 145), ('house', 146), ('houses', 147), ('housework', 148), ('i', 149), ('jewelry', 150), ('jogging', 151), ('journals', 152), ('karaoke', 153), ('karate', 154), ('kayaking', 155), ('knitting', 156), ('landscapes', 157), ('languages', 158), ('laps', 159), ('laughs', 160), ('laundry', 161), ('law', 162), ('learn', 163), ('learns', 164), ('lectures', 165), ('letters', 166), ('like', 167), ('linguistics', 168), ('listen', 169), ('listens', 170), ('literature', 171), ('logos', 172), ('loudly', 173), ('love', 174), ('loves', 175), ('lunch', 176), ('magazines', 177), ('magic', 178), ('make', 179), ('makes', 180), ('makeup', 181), ('marathons', 182), ('math', 183), ('mathematics', 184), ('meals', 185), ('medicine', 186), ('meditate', 187), ('meditates', 188), ('meditation', 189), ('meetings', 190), ('mindfulness', 191), ('motorcycles', 192), ('mountains', 193), ('movies', 194), ('museums', 195), ('music', 196), ('naps', 197), ('nature', 198), ('newspapers', 199), ('notes', 200), ('novels', 201), ('often', 202), ('online', 203), ('out', 204), ('outside', 205), ('paint', 206), ('painting', 207), ('paints', 208), ('parties', 209), ('people', 210), ('perform', 211), ('philosophy', 212), ('photographs', 213), ('photography', 214), ('photos', 215), ('physics', 216), ('piano', 217), ('picnics', 218), ('pictures', 219), ('pilates', 220), ('pizza', 221), ('planes', 222), ('plant', 223), ('plants', 224), ('play', 225), ('plays', 226), ('poems', 227), ('poetry', 228), ('politics', 229), ('portraits', 230), ('pottery', 231), ('practice', 232), ('practices', 233), ('psychology', 234), ('push-ups', 235), ('puzzles', 236), ('quickly', 237), ('quilts', 238), ('read', 239), ('reads', 240), ('regularly', 241), ('religion', 242), ('remotely', 243), ('ride', 244), ('robots', 245), ('rollercoasters', 246), ('rugby', 247), ('run', 248), ('running', 249), ('runs', 250), ('safely', 251), ('sailing', 252), ('sandcastles', 253), ('science', 254), ('scripts', 255), ('sculpting', 256), ('selfies', 257), ('sells', 258), ('seminars', 259), ('sews', 260), ('she', 261), ('shopping', 262), ('sightseeing', 263), ('sing', 264), ('singing', 265), ('sings', 266), ('skateboarding', 267), ('skating', 268), ('sketches', 269), ('skiing', 270), ('snorkeling', 271), ('snowboarding', 272), ('soap', 273), ('soccer', 274), ('sociology', 275), ('software', 276), ('solve', 277), ('solves', 278), ('songs', 279), ('spanish', 280), ('speak', 281), ('speaks', 282), ('sports', 283), ('stamps', 284), ('stars', 285), ('statistics', 286), ('stories', 287), ('studies', 288), ('study', 289), ('sunrises', 290), ('sunsets', 291), ('surf', 292), ('swim', 293), ('swimming', 294), ('swims', 295), ('take', 296), ('takes', 297), ('teaches', 298), ('technology', 299), ('tennis', 300), ('theater', 301), ('they', 302), ('thinks', 303), ('time', 304), ('together', 305), ('trails', 306), ('trains', 307), ('travel', 308), ('trees', 309), ('trumpet', 310), ('tv', 311), ('vacations', 312), ('vegetables', 313), ('videos', 314), ('visit', 315), ('visits', 316), ('volleyball', 317), ('volunteer', 318), ('volunteers', 319), ('walk', 320), ('walks', 321), ('watch', 322), ('watches', 323), ('waves', 324), ('we', 325), ('websites', 326), ('weddings', 327), ('wildlife', 328), ('work', 329), ('works', 330), ('workshops', 331), ('write', 332), ('writes', 333), ('writing', 334), ('yoga', 335), ('zoology', 336)])"
            ]
          },
          "metadata": {},
          "execution_count": 71
        }
      ]
    },
    {
      "cell_type": "code",
      "source": [
        "decoder_target_data = decoder_input_data.copy()"
      ],
      "metadata": {
        "id": "VSvMhXzYMipR"
      },
      "execution_count": 72,
      "outputs": []
    },
    {
      "cell_type": "code",
      "source": [
        "decoder_target_data[0].shape"
      ],
      "metadata": {
        "colab": {
          "base_uri": "https://localhost:8080/"
        },
        "id": "74hrS0DpM8bX",
        "outputId": "5124daea-baf1-4810-c8b4-2fd85392380a"
      },
      "execution_count": 73,
      "outputs": [
        {
          "output_type": "execute_result",
          "data": {
            "text/plain": [
              "(3, 337)"
            ]
          },
          "metadata": {},
          "execution_count": 73
        }
      ]
    },
    {
      "cell_type": "code",
      "source": [
        "temp = []"
      ],
      "metadata": {
        "id": "VlXTzvO85RWT"
      },
      "execution_count": 74,
      "outputs": []
    },
    {
      "cell_type": "code",
      "source": [
        "#teacher forcing\n",
        "for i in range(len(decoder_target_data)):\n",
        "  a = np.insert(decoder_target_data[i], 0, np.zeros(337))\n",
        "  a = a[:-337]\n",
        "  a = a.reshape(3, 337)\n",
        "  temp.append(a)  "
      ],
      "metadata": {
        "id": "3n1-e2FE-1R0"
      },
      "execution_count": 76,
      "outputs": []
    },
    {
      "cell_type": "code",
      "source": [
        "temp = np.array(temp)"
      ],
      "metadata": {
        "id": "zqJY8E8x5ass"
      },
      "execution_count": 77,
      "outputs": []
    },
    {
      "cell_type": "code",
      "source": [
        "#[loves she you] -> [she loves you] === [2 1 3] -> [1 2 3]  but decoder takes [0 1 2]\n",
        "temp[0]"
      ],
      "metadata": {
        "colab": {
          "base_uri": "https://localhost:8080/"
        },
        "id": "G-1vbBlh5qBA",
        "outputId": "22b4684c-2147-467d-a524-1cde51bacb42"
      },
      "execution_count": 82,
      "outputs": [
        {
          "output_type": "execute_result",
          "data": {
            "text/plain": [
              "array([[0., 0., 0., ..., 0., 0., 0.],\n",
              "       [0., 0., 0., ..., 0., 0., 0.],\n",
              "       [0., 0., 0., ..., 0., 0., 0.]], dtype=float32)"
            ]
          },
          "metadata": {},
          "execution_count": 82
        }
      ]
    },
    {
      "cell_type": "code",
      "source": [],
      "metadata": {
        "id": "lwzyZaKj4pZC"
      },
      "execution_count": null,
      "outputs": []
    }
  ]
}